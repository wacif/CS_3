{
  "cells": [
    {
      "cell_type": "markdown",
      "metadata": {
        "id": "view-in-github",
        "colab_type": "text"
      },
      "source": [
        "<a href=\"https://colab.research.google.com/github/wacif/CS_3/blob/main/assignment_sample.ipynb\" target=\"_parent\"><img src=\"https://colab.research.google.com/assets/colab-badge.svg\" alt=\"Open In Colab\"/></a>"
      ]
    },
    {
      "cell_type": "markdown",
      "source": [
        "# **CS-3: Artificial Intelligence**\n",
        "\n",
        "##  **Assignment Title:** Exploring Natural Language Processing with `NLTK` and `spaCy`\n",
        "---"
      ],
      "metadata": {
        "id": "TjB8Y4N9ss9K"
      }
    },
    {
      "cell_type": "markdown",
      "source": [
        "### **Group Member Names:**\n",
        "double click on this cell to add.\n",
        "\n",
        "- Name1 & ID\n",
        "- Name2 & ID\n",
        "- Name3 & ID\n",
        "- Name4 & ID\n"
      ],
      "metadata": {
        "id": "tH3z2JnEtIch"
      }
    },
    {
      "cell_type": "code",
      "source": [
        "# Instructions for installing required libraries:\n",
        "# 1. Install NLTK using: pip install nltk\n",
        "# 2. Install spaCy using: pip install spacy\n",
        "# 3. Install matplotlib for visualizations using: pip install matplotlib\n",
        "# 4. Download the spaCy language model using: python -m spacy download en_core_web_sm\n",
        "\n",
        "%pip install nltk spacy matplotlib en_core_web_sm"
      ],
      "metadata": {
        "id": "VR484yrit_Xp",
        "outputId": "d65dd113-3c7a-44a0-d938-29a55ae0c7c1",
        "colab": {
          "base_uri": "https://localhost:8080/"
        }
      },
      "execution_count": 1,
      "outputs": [
        {
          "output_type": "stream",
          "name": "stdout",
          "text": [
            "Requirement already satisfied: nltk in /usr/local/lib/python3.11/dist-packages (3.9.1)\n",
            "Requirement already satisfied: spacy in /usr/local/lib/python3.11/dist-packages (3.7.5)\n",
            "Requirement already satisfied: matplotlib in /usr/local/lib/python3.11/dist-packages (3.10.0)\n",
            "Requirement already satisfied: en_core_web_sm in /usr/local/lib/python3.11/dist-packages (3.7.1)\n",
            "Requirement already satisfied: click in /usr/local/lib/python3.11/dist-packages (from nltk) (8.1.8)\n",
            "Requirement already satisfied: joblib in /usr/local/lib/python3.11/dist-packages (from nltk) (1.4.2)\n",
            "Requirement already satisfied: regex>=2021.8.3 in /usr/local/lib/python3.11/dist-packages (from nltk) (2024.11.6)\n",
            "Requirement already satisfied: tqdm in /usr/local/lib/python3.11/dist-packages (from nltk) (4.67.1)\n",
            "Requirement already satisfied: spacy-legacy<3.1.0,>=3.0.11 in /usr/local/lib/python3.11/dist-packages (from spacy) (3.0.12)\n",
            "Requirement already satisfied: spacy-loggers<2.0.0,>=1.0.0 in /usr/local/lib/python3.11/dist-packages (from spacy) (1.0.5)\n",
            "Requirement already satisfied: murmurhash<1.1.0,>=0.28.0 in /usr/local/lib/python3.11/dist-packages (from spacy) (1.0.11)\n",
            "Requirement already satisfied: cymem<2.1.0,>=2.0.2 in /usr/local/lib/python3.11/dist-packages (from spacy) (2.0.10)\n",
            "Requirement already satisfied: preshed<3.1.0,>=3.0.2 in /usr/local/lib/python3.11/dist-packages (from spacy) (3.0.9)\n",
            "Requirement already satisfied: thinc<8.3.0,>=8.2.2 in /usr/local/lib/python3.11/dist-packages (from spacy) (8.2.5)\n",
            "Requirement already satisfied: wasabi<1.2.0,>=0.9.1 in /usr/local/lib/python3.11/dist-packages (from spacy) (1.1.3)\n",
            "Requirement already satisfied: srsly<3.0.0,>=2.4.3 in /usr/local/lib/python3.11/dist-packages (from spacy) (2.5.0)\n",
            "Requirement already satisfied: catalogue<2.1.0,>=2.0.6 in /usr/local/lib/python3.11/dist-packages (from spacy) (2.0.10)\n",
            "Requirement already satisfied: weasel<0.5.0,>=0.1.0 in /usr/local/lib/python3.11/dist-packages (from spacy) (0.4.1)\n",
            "Requirement already satisfied: typer<1.0.0,>=0.3.0 in /usr/local/lib/python3.11/dist-packages (from spacy) (0.15.1)\n",
            "Requirement already satisfied: requests<3.0.0,>=2.13.0 in /usr/local/lib/python3.11/dist-packages (from spacy) (2.32.3)\n",
            "Requirement already satisfied: pydantic!=1.8,!=1.8.1,<3.0.0,>=1.7.4 in /usr/local/lib/python3.11/dist-packages (from spacy) (2.10.5)\n",
            "Requirement already satisfied: jinja2 in /usr/local/lib/python3.11/dist-packages (from spacy) (3.1.5)\n",
            "Requirement already satisfied: setuptools in /usr/local/lib/python3.11/dist-packages (from spacy) (75.1.0)\n",
            "Requirement already satisfied: packaging>=20.0 in /usr/local/lib/python3.11/dist-packages (from spacy) (24.2)\n",
            "Requirement already satisfied: langcodes<4.0.0,>=3.2.0 in /usr/local/lib/python3.11/dist-packages (from spacy) (3.5.0)\n",
            "Requirement already satisfied: numpy>=1.19.0 in /usr/local/lib/python3.11/dist-packages (from spacy) (1.26.4)\n",
            "Requirement already satisfied: contourpy>=1.0.1 in /usr/local/lib/python3.11/dist-packages (from matplotlib) (1.3.1)\n",
            "Requirement already satisfied: cycler>=0.10 in /usr/local/lib/python3.11/dist-packages (from matplotlib) (0.12.1)\n",
            "Requirement already satisfied: fonttools>=4.22.0 in /usr/local/lib/python3.11/dist-packages (from matplotlib) (4.55.3)\n",
            "Requirement already satisfied: kiwisolver>=1.3.1 in /usr/local/lib/python3.11/dist-packages (from matplotlib) (1.4.8)\n",
            "Requirement already satisfied: pillow>=8 in /usr/local/lib/python3.11/dist-packages (from matplotlib) (11.1.0)\n",
            "Requirement already satisfied: pyparsing>=2.3.1 in /usr/local/lib/python3.11/dist-packages (from matplotlib) (3.2.1)\n",
            "Requirement already satisfied: python-dateutil>=2.7 in /usr/local/lib/python3.11/dist-packages (from matplotlib) (2.8.2)\n",
            "Requirement already satisfied: language-data>=1.2 in /usr/local/lib/python3.11/dist-packages (from langcodes<4.0.0,>=3.2.0->spacy) (1.3.0)\n",
            "Requirement already satisfied: annotated-types>=0.6.0 in /usr/local/lib/python3.11/dist-packages (from pydantic!=1.8,!=1.8.1,<3.0.0,>=1.7.4->spacy) (0.7.0)\n",
            "Requirement already satisfied: pydantic-core==2.27.2 in /usr/local/lib/python3.11/dist-packages (from pydantic!=1.8,!=1.8.1,<3.0.0,>=1.7.4->spacy) (2.27.2)\n",
            "Requirement already satisfied: typing-extensions>=4.12.2 in /usr/local/lib/python3.11/dist-packages (from pydantic!=1.8,!=1.8.1,<3.0.0,>=1.7.4->spacy) (4.12.2)\n",
            "Requirement already satisfied: six>=1.5 in /usr/local/lib/python3.11/dist-packages (from python-dateutil>=2.7->matplotlib) (1.17.0)\n",
            "Requirement already satisfied: charset-normalizer<4,>=2 in /usr/local/lib/python3.11/dist-packages (from requests<3.0.0,>=2.13.0->spacy) (3.4.1)\n",
            "Requirement already satisfied: idna<4,>=2.5 in /usr/local/lib/python3.11/dist-packages (from requests<3.0.0,>=2.13.0->spacy) (3.10)\n",
            "Requirement already satisfied: urllib3<3,>=1.21.1 in /usr/local/lib/python3.11/dist-packages (from requests<3.0.0,>=2.13.0->spacy) (2.3.0)\n",
            "Requirement already satisfied: certifi>=2017.4.17 in /usr/local/lib/python3.11/dist-packages (from requests<3.0.0,>=2.13.0->spacy) (2024.12.14)\n",
            "Requirement already satisfied: blis<0.8.0,>=0.7.8 in /usr/local/lib/python3.11/dist-packages (from thinc<8.3.0,>=8.2.2->spacy) (0.7.11)\n",
            "Requirement already satisfied: confection<1.0.0,>=0.0.1 in /usr/local/lib/python3.11/dist-packages (from thinc<8.3.0,>=8.2.2->spacy) (0.1.5)\n",
            "Requirement already satisfied: shellingham>=1.3.0 in /usr/local/lib/python3.11/dist-packages (from typer<1.0.0,>=0.3.0->spacy) (1.5.4)\n",
            "Requirement already satisfied: rich>=10.11.0 in /usr/local/lib/python3.11/dist-packages (from typer<1.0.0,>=0.3.0->spacy) (13.9.4)\n",
            "Requirement already satisfied: cloudpathlib<1.0.0,>=0.7.0 in /usr/local/lib/python3.11/dist-packages (from weasel<0.5.0,>=0.1.0->spacy) (0.20.0)\n",
            "Requirement already satisfied: smart-open<8.0.0,>=5.2.1 in /usr/local/lib/python3.11/dist-packages (from weasel<0.5.0,>=0.1.0->spacy) (7.1.0)\n",
            "Requirement already satisfied: MarkupSafe>=2.0 in /usr/local/lib/python3.11/dist-packages (from jinja2->spacy) (3.0.2)\n",
            "Requirement already satisfied: marisa-trie>=1.1.0 in /usr/local/lib/python3.11/dist-packages (from language-data>=1.2->langcodes<4.0.0,>=3.2.0->spacy) (1.2.1)\n",
            "Requirement already satisfied: markdown-it-py>=2.2.0 in /usr/local/lib/python3.11/dist-packages (from rich>=10.11.0->typer<1.0.0,>=0.3.0->spacy) (3.0.0)\n",
            "Requirement already satisfied: pygments<3.0.0,>=2.13.0 in /usr/local/lib/python3.11/dist-packages (from rich>=10.11.0->typer<1.0.0,>=0.3.0->spacy) (2.18.0)\n",
            "Requirement already satisfied: wrapt in /usr/local/lib/python3.11/dist-packages (from smart-open<8.0.0,>=5.2.1->weasel<0.5.0,>=0.1.0->spacy) (1.17.0)\n",
            "Requirement already satisfied: mdurl~=0.1 in /usr/local/lib/python3.11/dist-packages (from markdown-it-py>=2.2.0->rich>=10.11.0->typer<1.0.0,>=0.3.0->spacy) (0.1.2)\n"
          ]
        }
      ]
    },
    {
      "cell_type": "code",
      "execution_count": null,
      "metadata": {
        "vscode": {
          "languageId": "plaintext"
        },
        "id": "0N_gKCq4srP7"
      },
      "outputs": [],
      "source": [
        "# Import required modules\n",
        "import nltk\n",
        "import spacy\n",
        "from nltk.corpus import stopwords\n",
        "from nltk.tokenize import word_tokenize\n",
        "from nltk.stem import WordNetLemmatizer\n",
        "from nltk.probability import FreqDist\n",
        "from nltk.sentiment import SentimentIntensityAnalyzer\n",
        "from nltk import pos_tag, ne_chunk\n",
        "from nltk.tree import Tree\n",
        "import matplotlib.pyplot as plt\n",
        "from collections import Counter"
      ]
    },
    {
      "cell_type": "code",
      "source": [
        "# Download required NLTK data files\n",
        "nltk.download('punkt_tab')\n",
        "nltk.download('punkt')\n",
        "nltk.download('wordnet')\n",
        "nltk.download('averaged_perceptron_tagger')\n",
        "nltk.download('maxent_ne_chunker')\n",
        "nltk.download('words')\n",
        "nltk.download('stopwords')\n",
        "nltk.download('vader_lexicon')\n",
        "nltk.download('averaged_perceptron_tagger_eng')\n",
        "nltk.download('maxent_ne_chunker_tab')"
      ],
      "metadata": {
        "id": "Ddhppoljt4kR",
        "outputId": "0edc50bc-2856-40b1-abf6-f6e1c01160f6",
        "colab": {
          "base_uri": "https://localhost:8080/"
        }
      },
      "execution_count": null,
      "outputs": [
        {
          "output_type": "stream",
          "name": "stderr",
          "text": [
            "[nltk_data] Downloading package punkt_tab to /root/nltk_data...\n",
            "[nltk_data]   Package punkt_tab is already up-to-date!\n",
            "[nltk_data] Downloading package punkt to /root/nltk_data...\n",
            "[nltk_data]   Package punkt is already up-to-date!\n",
            "[nltk_data] Downloading package wordnet to /root/nltk_data...\n",
            "[nltk_data]   Package wordnet is already up-to-date!\n",
            "[nltk_data] Downloading package averaged_perceptron_tagger to\n",
            "[nltk_data]     /root/nltk_data...\n",
            "[nltk_data]   Package averaged_perceptron_tagger is already up-to-\n",
            "[nltk_data]       date!\n",
            "[nltk_data] Downloading package maxent_ne_chunker to\n",
            "[nltk_data]     /root/nltk_data...\n",
            "[nltk_data]   Package maxent_ne_chunker is already up-to-date!\n",
            "[nltk_data] Downloading package words to /root/nltk_data...\n",
            "[nltk_data]   Package words is already up-to-date!\n",
            "[nltk_data] Downloading package stopwords to /root/nltk_data...\n",
            "[nltk_data]   Package stopwords is already up-to-date!\n",
            "[nltk_data] Downloading package vader_lexicon to /root/nltk_data...\n",
            "[nltk_data]   Package vader_lexicon is already up-to-date!\n",
            "[nltk_data] Downloading package averaged_perceptron_tagger_eng to\n",
            "[nltk_data]     /root/nltk_data...\n",
            "[nltk_data]   Package averaged_perceptron_tagger_eng is already up-to-\n",
            "[nltk_data]       date!\n",
            "[nltk_data] Downloading package maxent_ne_chunker_tab to\n",
            "[nltk_data]     /root/nltk_data...\n",
            "[nltk_data]   Unzipping chunkers/maxent_ne_chunker_tab.zip.\n"
          ]
        },
        {
          "output_type": "execute_result",
          "data": {
            "text/plain": [
              "True"
            ]
          },
          "metadata": {},
          "execution_count": 21
        }
      ]
    },
    {
      "cell_type": "code",
      "source": [
        "# Load spaCy English language model\n",
        "nlp = spacy.load('en_core_web_sm')"
      ],
      "metadata": {
        "id": "Q7jZYMkXuZh2"
      },
      "execution_count": null,
      "outputs": []
    },
    {
      "cell_type": "code",
      "source": [
        "# Sample text dataset (You can use any.)\n",
        "text = \"\"\"\n",
        "In 2025, advancements in artificial intelligence and natural language processing have revolutionized industries worldwide. OpenAI continues to lead the charge in innovative technologies.\n",
        "\"\"\""
      ],
      "metadata": {
        "id": "NUSOYJK4udkZ"
      },
      "execution_count": null,
      "outputs": []
    },
    {
      "cell_type": "markdown",
      "source": [
        "# Implement preprocessing using `NLTK` and `spaCy`\n"
      ],
      "metadata": {
        "id": "58vWauOPUCVV"
      }
    },
    {
      "cell_type": "markdown",
      "source": [
        "##  **NLTK**"
      ],
      "metadata": {
        "id": "tVwUbBGBULDD"
      }
    },
    {
      "cell_type": "code",
      "source": [
        "tokens = word_tokenize(text)\n",
        "print(tokens)"
      ],
      "metadata": {
        "id": "9m5jEnjouvUT",
        "outputId": "3eb420f5-3459-40ae-9b29-4da4f556ad84",
        "colab": {
          "base_uri": "https://localhost:8080/"
        }
      },
      "execution_count": null,
      "outputs": [
        {
          "output_type": "stream",
          "name": "stdout",
          "text": [
            "['In', '2025', ',', 'advancements', 'in', 'artificial', 'intelligence', 'and', 'natural', 'language', 'processing', 'have', 'revolutionized', 'industries', 'worldwide', '.', 'OpenAI', 'continues', 'to', 'lead', 'the', 'charge', 'in', 'innovative', 'technologies', '.']\n"
          ]
        }
      ]
    },
    {
      "cell_type": "code",
      "source": [
        "# Stopword removal\n",
        "stop_words = set(stopwords.words('english'))\n",
        "filtered_tokens = [word for word in tokens if word.lower() not in stop_words]\n",
        "print(\"Filtered Tokens (NLTK):\", filtered_tokens)"
      ],
      "metadata": {
        "id": "4tHAqaE9Sjhy",
        "outputId": "853f6429-0d89-4561-c4ad-aae3276a1800",
        "colab": {
          "base_uri": "https://localhost:8080/"
        }
      },
      "execution_count": null,
      "outputs": [
        {
          "output_type": "stream",
          "name": "stdout",
          "text": [
            "Filtered Tokens (NLTK): ['2025', ',', 'advancements', 'artificial', 'intelligence', 'natural', 'language', 'processing', 'revolutionized', 'industries', 'worldwide', '.', 'OpenAI', 'continues', 'lead', 'charge', 'innovative', 'technologies', '.']\n"
          ]
        }
      ]
    },
    {
      "cell_type": "code",
      "source": [
        "# Lemmatization\n",
        "lemmatizer = WordNetLemmatizer()\n",
        "lemmatized_tokens = [lemmatizer.lemmatize(token) for token in filtered_tokens]\n",
        "print(\"Lemmatized Tokens (NLTK):\", lemmatized_tokens)"
      ],
      "metadata": {
        "id": "4Ll9X1A6S-av",
        "outputId": "d53fcee7-55c2-4b39-f21a-cb1e86d6eaec",
        "colab": {
          "base_uri": "https://localhost:8080/"
        }
      },
      "execution_count": null,
      "outputs": [
        {
          "output_type": "stream",
          "name": "stdout",
          "text": [
            "Lemmatized Tokens (NLTK): ['2025', ',', 'advancement', 'artificial', 'intelligence', 'natural', 'language', 'processing', 'revolutionized', 'industry', 'worldwide', '.', 'OpenAI', 'continues', 'lead', 'charge', 'innovative', 'technology', '.']\n"
          ]
        }
      ]
    },
    {
      "cell_type": "code",
      "source": [
        "# POS tagging\n",
        "pos_tags_nltk = pos_tag(tokens)\n",
        "print(\"POS Tags (NLTK):\", pos_tags_nltk)"
      ],
      "metadata": {
        "id": "0okCGbNJTdbI",
        "outputId": "1e067271-be74-4fc8-9d6f-8301f2dcdf3e",
        "colab": {
          "base_uri": "https://localhost:8080/"
        }
      },
      "execution_count": null,
      "outputs": [
        {
          "output_type": "stream",
          "name": "stdout",
          "text": [
            "POS Tags (NLTK): [('\\n', 'NN'), ('In', 'IN'), ('2025', 'CD'), (',', ','), ('advancements', 'NNS'), ('in', 'IN'), ('artificial', 'JJ'), ('intelligence', 'NN'), ('and', 'CC'), ('natural', 'JJ'), ('language', 'NN'), ('processing', 'NN'), ('have', 'VBP'), ('revolutionized', 'VBN'), ('industries', 'NNS'), ('worldwide', 'VBP'), ('.', '.'), ('OpenAI', 'NNP'), ('continues', 'VBZ'), ('to', 'TO'), ('lead', 'VB'), ('the', 'DT'), ('charge', 'NN'), ('in', 'IN'), ('innovative', 'JJ'), ('technologies', 'NNS'), ('.', '.'), ('\\n', 'NN')]\n"
          ]
        }
      ]
    },
    {
      "cell_type": "markdown",
      "source": [
        "##  **spaCy**"
      ],
      "metadata": {
        "id": "hyQ5t04sUaOi"
      }
    },
    {
      "cell_type": "code",
      "source": [
        "# Process the text\n",
        "doc = nlp(text)"
      ],
      "metadata": {
        "id": "YF060evsUZRo"
      },
      "execution_count": null,
      "outputs": []
    },
    {
      "cell_type": "code",
      "source": [
        "# Tokenization\n",
        "tokens = [token.text for token in doc]\n",
        "print(\"Tokens (spaCy):\", tokens)"
      ],
      "metadata": {
        "id": "I2FybaqcUcjW",
        "outputId": "7b01d6ce-338b-4c46-b3a2-289376007748",
        "colab": {
          "base_uri": "https://localhost:8080/"
        }
      },
      "execution_count": null,
      "outputs": [
        {
          "output_type": "stream",
          "name": "stdout",
          "text": [
            "Tokens (spaCy): ['\\n', 'In', '2025', ',', 'advancements', 'in', 'artificial', 'intelligence', 'and', 'natural', 'language', 'processing', 'have', 'revolutionized', 'industries', 'worldwide', '.', 'OpenAI', 'continues', 'to', 'lead', 'the', 'charge', 'in', 'innovative', 'technologies', '.', '\\n']\n"
          ]
        }
      ]
    },
    {
      "cell_type": "code",
      "source": [
        "# Stopword removal\n",
        "filtered_tokens = [token.text for token in doc if not token.is_stop]\n",
        "print(\"Filtered Tokens (spaCy):\", filtered_tokens)"
      ],
      "metadata": {
        "id": "oSrSjybIUpRO",
        "outputId": "479b4414-c01f-4dc0-d5c8-8ea0a23a5106",
        "colab": {
          "base_uri": "https://localhost:8080/"
        }
      },
      "execution_count": null,
      "outputs": [
        {
          "output_type": "stream",
          "name": "stdout",
          "text": [
            "Filtered Tokens (spaCy): ['\\n', '2025', ',', 'advancements', 'artificial', 'intelligence', 'natural', 'language', 'processing', 'revolutionized', 'industries', 'worldwide', '.', 'OpenAI', 'continues', 'lead', 'charge', 'innovative', 'technologies', '.', '\\n']\n"
          ]
        }
      ]
    },
    {
      "cell_type": "code",
      "source": [
        "# Lemmatization\n",
        "lemmatized_tokens = [token.lemma_ for token in doc]\n",
        "print(\"Lemmatized Tokens (spaCy):\", lemmatized_tokens)"
      ],
      "metadata": {
        "id": "kRT9y2uVUuue",
        "outputId": "e4ab126f-1fd3-4ae8-eb79-e79ad969cb74",
        "colab": {
          "base_uri": "https://localhost:8080/"
        }
      },
      "execution_count": null,
      "outputs": [
        {
          "output_type": "stream",
          "name": "stdout",
          "text": [
            "Lemmatized Tokens (spaCy): ['\\n', 'in', '2025', ',', 'advancement', 'in', 'artificial', 'intelligence', 'and', 'natural', 'language', 'processing', 'have', 'revolutionize', 'industry', 'worldwide', '.', 'OpenAI', 'continue', 'to', 'lead', 'the', 'charge', 'in', 'innovative', 'technology', '.', '\\n']\n"
          ]
        }
      ]
    },
    {
      "cell_type": "code",
      "source": [
        "# POS tagging\n",
        "pos_tags = [(token.text, token.pos_) for token in doc]\n",
        "print(\"POS Tags (spaCy):\", pos_tags)"
      ],
      "metadata": {
        "id": "mKenrklOU0im",
        "outputId": "2dfd7f32-c4ec-456b-efb2-c6477d73f67f",
        "colab": {
          "base_uri": "https://localhost:8080/"
        }
      },
      "execution_count": null,
      "outputs": [
        {
          "output_type": "stream",
          "name": "stdout",
          "text": [
            "POS Tags (spaCy): [('\\n', 'SPACE'), ('In', 'ADP'), ('2025', 'NUM'), (',', 'PUNCT'), ('advancements', 'NOUN'), ('in', 'ADP'), ('artificial', 'ADJ'), ('intelligence', 'NOUN'), ('and', 'CCONJ'), ('natural', 'ADJ'), ('language', 'NOUN'), ('processing', 'NOUN'), ('have', 'AUX'), ('revolutionized', 'VERB'), ('industries', 'NOUN'), ('worldwide', 'ADV'), ('.', 'PUNCT'), ('OpenAI', 'PROPN'), ('continues', 'VERB'), ('to', 'PART'), ('lead', 'VERB'), ('the', 'DET'), ('charge', 'NOUN'), ('in', 'ADP'), ('innovative', 'ADJ'), ('technologies', 'NOUN'), ('.', 'PUNCT'), ('\\n', 'SPACE')]\n"
          ]
        }
      ]
    },
    {
      "cell_type": "markdown",
      "source": [
        "##  **Named Entity Recognition** (NER)"
      ],
      "metadata": {
        "id": "cuE6SzqdVdRq"
      }
    },
    {
      "cell_type": "markdown",
      "source": [
        "##  **NLTK**"
      ],
      "metadata": {
        "id": "9BbvwIZKVnWX"
      }
    },
    {
      "cell_type": "code",
      "source": [
        "from nltk import ne_chunk\n",
        "\n",
        "# NER with NLTK\n",
        "nltk_entities = ne_chunk(pos_tags_nltk)\n",
        "print(\"Named Entities (NLTK):\", nltk_entities)"
      ],
      "metadata": {
        "id": "XuHbH6TWVDET",
        "outputId": "c60a4e6a-7853-465d-e05f-0095c4c33127",
        "colab": {
          "base_uri": "https://localhost:8080/"
        }
      },
      "execution_count": null,
      "outputs": [
        {
          "output_type": "stream",
          "name": "stdout",
          "text": [
            "Named Entities (NLTK): (S\n",
            "  \n",
            "/NN\n",
            "  In/IN\n",
            "  2025/CD\n",
            "  ,/,\n",
            "  advancements/NNS\n",
            "  in/IN\n",
            "  artificial/JJ\n",
            "  intelligence/NN\n",
            "  and/CC\n",
            "  natural/JJ\n",
            "  language/NN\n",
            "  processing/NN\n",
            "  have/VBP\n",
            "  revolutionized/VBN\n",
            "  industries/NNS\n",
            "  worldwide/VBP\n",
            "  ./.\n",
            "  (ORGANIZATION OpenAI/NNP)\n",
            "  continues/VBZ\n",
            "  to/TO\n",
            "  lead/VB\n",
            "  the/DT\n",
            "  charge/NN\n",
            "  in/IN\n",
            "  innovative/JJ\n",
            "  technologies/NNS\n",
            "  ./.\n",
            "  \n",
            "/NN)\n"
          ]
        }
      ]
    },
    {
      "cell_type": "markdown",
      "source": [
        "##  **spaCy**"
      ],
      "metadata": {
        "id": "ktDI2FWHWJ8m"
      }
    },
    {
      "cell_type": "code",
      "source": [
        "# NER with spaCy\n",
        "spacy_entities = [(ent.text, ent.label_) for ent in doc.ents]\n",
        "print(\"Named Entities (spaCy):\", spacy_entities)"
      ],
      "metadata": {
        "id": "OtYxINbTVtMf",
        "outputId": "b9b2cb42-70f6-476f-f6d2-ddf3b863a0e8",
        "colab": {
          "base_uri": "https://localhost:8080/"
        }
      },
      "execution_count": null,
      "outputs": [
        {
          "output_type": "stream",
          "name": "stdout",
          "text": [
            "Named Entities (spaCy): [('2025', 'DATE'), ('OpenAI', 'GPE')]\n"
          ]
        }
      ]
    },
    {
      "cell_type": "markdown",
      "source": [
        "# **Sentiment Analysis** (NLTK Only)"
      ],
      "metadata": {
        "id": "gldtuhLtWhwa"
      }
    },
    {
      "cell_type": "code",
      "source": [
        "sample_text = \"I hate this product\""
      ],
      "metadata": {
        "id": "6_O-DZfBWsAf"
      },
      "execution_count": null,
      "outputs": []
    },
    {
      "cell_type": "code",
      "source": [
        "from nltk.sentiment import SentimentIntensityAnalyzer\n",
        "\n",
        "# Download VADER lexicon\n",
        "nltk.download('vader_lexicon')\n",
        "\n",
        "# Initialize VADER\n",
        "sia = SentimentIntensityAnalyzer()\n",
        "\n",
        "# Perform sentiment analysis\n",
        "sentiment_score = sia.polarity_scores(sample_text)\n",
        "print(\"Sentiment Score (NLTK VADER):\", sentiment_score)"
      ],
      "metadata": {
        "id": "wnzLeW1dWOgt",
        "outputId": "37a1b281-6207-4e02-bba5-9a7f42073ae7",
        "colab": {
          "base_uri": "https://localhost:8080/"
        }
      },
      "execution_count": null,
      "outputs": [
        {
          "output_type": "stream",
          "name": "stdout",
          "text": [
            "Sentiment Score (NLTK VADER): {'neg': 0.649, 'neu': 0.351, 'pos': 0.0, 'compound': -0.5719}\n"
          ]
        },
        {
          "output_type": "stream",
          "name": "stderr",
          "text": [
            "[nltk_data] Downloading package vader_lexicon to /root/nltk_data...\n",
            "[nltk_data]   Package vader_lexicon is already up-to-date!\n"
          ]
        }
      ]
    },
    {
      "cell_type": "markdown",
      "source": [
        "#  **Word Frequency Analysis**"
      ],
      "metadata": {
        "id": "1tNOo0_dXJMC"
      }
    },
    {
      "cell_type": "markdown",
      "source": [
        "## **NLTK**"
      ],
      "metadata": {
        "id": "oEtmmittXp8z"
      }
    },
    {
      "cell_type": "code",
      "source": [
        "from nltk.probability import FreqDist\n",
        "\n",
        "# Calculate word frequency\n",
        "freq_dist = FreqDist(filtered_tokens)\n",
        "print(\"Word Frequency (NLTK):\", freq_dist.most_common(10))"
      ],
      "metadata": {
        "id": "zQtEknmbXpUB",
        "outputId": "11db5bb6-2e9a-429e-ecdb-7ec2fce59371",
        "colab": {
          "base_uri": "https://localhost:8080/"
        }
      },
      "execution_count": null,
      "outputs": [
        {
          "output_type": "stream",
          "name": "stdout",
          "text": [
            "Word Frequency (NLTK): [('\\n', 2), ('.', 2), ('2025', 1), (',', 1), ('advancements', 1), ('artificial', 1), ('intelligence', 1), ('natural', 1), ('language', 1), ('processing', 1)]\n"
          ]
        }
      ]
    },
    {
      "cell_type": "markdown",
      "source": [
        "## **spaCy**"
      ],
      "metadata": {
        "id": "lQR2K0bsXz8-"
      }
    },
    {
      "cell_type": "code",
      "source": [
        "from collections import Counter\n",
        "\n",
        "# Calculate word frequency\n",
        "word_freq = Counter(filtered_tokens)\n",
        "print(\"Word Frequency (spaCy):\", word_freq.most_common(10))"
      ],
      "metadata": {
        "id": "GtCNUi-7XB4Y",
        "outputId": "9fc23569-cdaa-475c-dfef-8d29255fa4ee",
        "colab": {
          "base_uri": "https://localhost:8080/"
        }
      },
      "execution_count": null,
      "outputs": [
        {
          "output_type": "stream",
          "name": "stdout",
          "text": [
            "Word Frequency (spaCy): [('\\n', 2), ('.', 2), ('2025', 1), (',', 1), ('advancements', 1), ('artificial', 1), ('intelligence', 1), ('natural', 1), ('language', 1), ('processing', 1)]\n"
          ]
        }
      ]
    },
    {
      "cell_type": "code",
      "source": [
        "import matplotlib.pyplot as plt\n",
        "\n",
        "# Plot word frequency\n",
        "freq_dist.plot(10, title=\"Word Frequency Distribution (NLTK)\")\n",
        "plt.show()"
      ],
      "metadata": {
        "id": "_20EBCtPX9AI",
        "outputId": "b41d9843-1c8e-4479-efca-6a474fbf3706",
        "colab": {
          "base_uri": "https://localhost:8080/",
          "height": 560
        }
      },
      "execution_count": null,
      "outputs": [
        {
          "output_type": "display_data",
          "data": {
            "text/plain": [
              "<Figure size 640x480 with 1 Axes>"
            ],
            "image/png": "[encoded data removed]"
          },
          "metadata": {}
        }
      ]
    },
    {
      "cell_type": "code",
      "source": [
        "# Visualize dependency parse tree\n",
        "# spacy.displacy.render(doc, style=\"dep\")"
      ],
      "metadata": {
        "id": "YbBT07AfYLXU"
      },
      "execution_count": null,
      "outputs": []
    },
    {
      "cell_type": "code",
      "source": [],
      "metadata": {
        "id": "Hsd3-oArYLyJ"
      },
      "execution_count": null,
      "outputs": []
    }
  ],
  "metadata": {
    "language_info": {
      "name": "python"
    },
    "colab": {
      "provenance": [],
      "include_colab_link": true
    },
    "kernelspec": {
      "name": "python3",
      "display_name": "Python 3"
    }
  },
  "nbformat": 4,
  "nbformat_minor": 0
}